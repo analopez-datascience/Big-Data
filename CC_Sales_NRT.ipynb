{
  "nbformat": 4,
  "nbformat_minor": 0,
  "metadata": {
    "colab": {
      "provenance": [],
      "authorship_tag": "ABX9TyPBYV7MDy5qEjVBwvLyocfJ",
      "include_colab_link": true
    },
    "kernelspec": {
      "name": "python3",
      "display_name": "Python 3"
    },
    "language_info": {
      "name": "python"
    }
  },
  "cells": [
    {
      "cell_type": "markdown",
      "metadata": {
        "id": "view-in-github",
        "colab_type": "text"
      },
      "source": [
        "<a href=\"https://colab.research.google.com/github/analopez-datascience/Big-Data/blob/main/CC_Sales_NRT.ipynb\" target=\"_parent\"><img src=\"https://colab.research.google.com/assets/colab-badge.svg\" alt=\"Open In Colab\"/></a>"
      ]
    },
    {
      "cell_type": "code",
      "execution_count": null,
      "metadata": {
        "id": "QK39qudseXbL"
      },
      "outputs": [],
      "source": [
        "// para añadir texto a los tooltip con el nombre del KPI que se está seleccionando\n",
        "\n",
        "IF [Parámetros].[KPI] = 0 THEN\n",
        "'Revenue'\n",
        "ELSEIF [Parámetros].[KPI] = 1 THEN\n",
        "'PNR'\n",
        "ELSEIF [Parámetros].[KPI] = 2  THEN\n",
        "'PAX'\n",
        "END"
      ]
    },
    {
      "cell_type": "code",
      "source": [
        "// creamos un date filter para darle acción al parámetro\n",
        "\n",
        "// Last Month\n",
        "if [Select Date]=4\n",
        "    then month(dateadd('month',-1,today()))=month([at_ts_booking]) and year(dateadd('month',-1,today()))=year([at_ts_booking])\n",
        "// Curent Month\n",
        "elseif [Select Date]=3 then  MONTH([at_ts_booking])= MONTH(TODAY()) AND YEAR([at_ts_booking])=YEAR(TODAY())\n",
        "// Curent Week\n",
        "elseif [Select Date]=1  then  isoweek(today())=ISOWEEK([at_ts_booking]) and YEAR([at_ts_booking])=YEAR(TODAY())\n",
        "// Last Week\n",
        "elseif [Select Date]=2 then isoweek(dateadd('iso-week',-1,today()))=ISOWEEK([at_ts_booking]) and YEAR([at_ts_booking])=YEAR(dateadd('iso-week',-1,today()))\n",
        "// Yesterday\n",
        "elseif [Select Date] = 6  then (TODAY()-1) = date([at_ts_booking])\n",
        "// Custom\n",
        "elseif [Select Date]=5 then (  ([at_ts_booking]>=[Start Date]\n",
        "                         AND [at_ts_booking]<=[End Date] )\n",
        "                    )\n",
        "// Today\n",
        "elseif [Select Date]=0  then TODAY() = date([at_ts_booking])\n",
        "END"
      ],
      "metadata": {
        "id": "uZQavTcFfBrU"
      },
      "execution_count": null,
      "outputs": []
    },
    {
      "cell_type": "code",
      "source": [
        "// añadimos granularidad\n",
        "\n",
        "If [Parámetros].[Granularity] =  0 then\n",
        "DATETRUNC('minute',[at_ts_booking])\n",
        "ELSEIF [Parámetros].[Granularity] = 1 then\n",
        "DATETRUNC('hour',[at_ts_booking])\n",
        "ELSEIF [Parámetros].[Granularity] = 2  then\n",
        "DATETRUNC('day',[at_ts_booking])\n",
        "END\n",
        "\n"
      ],
      "metadata": {
        "id": "mZnwAWkhf1oS"
      },
      "execution_count": null,
      "outputs": []
    },
    {
      "cell_type": "code",
      "source": [
        "// concatenar un city pair\n",
        "\n",
        "[at_cd_journey_departure_airport]\n",
        "+'-' +\n",
        "[at_cd_journey_arrival_airport]\n",
        "\n"
      ],
      "metadata": {
        "id": "Qp55OSSBf61Z"
      },
      "execution_count": null,
      "outputs": []
    },
    {
      "cell_type": "code",
      "source": [],
      "metadata": {
        "id": "ht5SUdQsgEJi"
      },
      "execution_count": null,
      "outputs": []
    }
  ]
}