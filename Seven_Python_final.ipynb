{
 "cells": [
  {
   "cell_type": "markdown",
   "id": "370c2552",
   "metadata": {},
   "source": [
    "# Clustering"
   ]
  },
  {
   "cell_type": "markdown",
   "id": "dd9470fe",
   "metadata": {},
   "source": [
    "## centralised clustering"
   ]
  },
  {
   "cell_type": "code",
   "execution_count": 39,
   "id": "c4f194ef",
   "metadata": {},
   "outputs": [],
   "source": [
    "# k means clustering is one of the simplest algorithm\n",
    "# It is a kind of partitioning clustering method\n",
    "# It partitions input data by defining a random in initial cluster center based on a given number of clusters\n",
    "# In the next interation, it associates the data items to the nearest cluster using Euclidean distance\n",
    "# it selects the new cluster center by averaging the values of other cluster items\n",
    "# it repeats the last 2 steps until there is no change in the clusters\n",
    "\n",
    "import pandas as pd\n",
    "\n",
    "# import matplotlib for data visualization\n",
    "import matplotlib.pyplot as plt\n",
    "\n",
    "# Import K-means\n",
    "from sklearn.cluster import KMeans\n",
    "\n",
    "# Create a DataFrame\n",
    "data=pd.DataFrame({\"X\":[12,15,18,10,8,9,12,20],\n",
    "             \"Y\":[6,16,17,8,7,6,9,18]})\n",
    " \n"
   ]
  },
  {
   "cell_type": "code",
   "execution_count": 40,
   "id": "f37a1f3c",
   "metadata": {},
   "outputs": [
    {
     "data": {
      "text/plain": [
       "0     6\n",
       "1    16\n",
       "2    17\n",
       "3     8\n",
       "4     7\n",
       "Name: Y, dtype: int64"
      ]
     },
     "execution_count": 40,
     "metadata": {},
     "output_type": "execute_result"
    }
   ],
   "source": [
    "data.Y.head()"
   ]
  },
  {
   "cell_type": "code",
   "execution_count": 47,
   "id": "db4fd7e1",
   "metadata": {},
   "outputs": [
    {
     "data": {
      "image/png": "[encoded data removed]",
      "text/plain": [
       "<Figure size 432x288 with 1 Axes>"
      ]
     },
     "metadata": {
      "needs_background": "light"
     },
     "output_type": "display_data"
    }
   ],
   "source": [
    "# Plot thedata\n",
    "plt.scatter(data.X,data.Y,c=pred, marker=\"o\", cmap=\"bwr_r\")\n",
    "# Set title of the plot \n",
    "plt.title('data')\n",
    "# Set x-axis label\n",
    "plt.xlabel('X-Axis Values')\n",
    "# Set y-axis label\n",
    "plt.ylabel('Y-Axis Values')\n",
    "# Display the plot\n",
    "plt.show()"
   ]
  },
  {
   "cell_type": "markdown",
   "id": "563382e0",
   "metadata": {},
   "source": [
    "## Silhouette"
   ]
  },
  {
   "cell_type": "code",
   "execution_count": 42,
   "id": "2c063e42",
   "metadata": {},
   "outputs": [
    {
     "data": {
      "image/png": "[encoded data removed]",
      "text/plain": [
       "<Figure size 432x288 with 1 Axes>"
      ]
     },
     "metadata": {
      "needs_background": "light"
     },
     "output_type": "display_data"
    }
   ],
   "source": [
    "# import silhouette score\n",
    "from sklearn.metrics import silhouette_score\n",
    " \n",
    "score_list = []\n",
    "\n",
    "# Run a loop for different value of number of cluster\n",
    "for i in range(2, 6):\n",
    "    # Create and fit the KMeans model\n",
    "    kmeans_model = KMeans(n_clusters = i, random_state = 123)\n",
    "    kmeans_model.fit(data)\n",
    "    \n",
    "    # Make predictions\n",
    "    pred=kmeans_model.predict(data)\n",
    "    \n",
    "    # Calculate the Silhouette Score\n",
    "    score = silhouette_score (data, pred, metric='euclidean')\n",
    "    \n",
    "    # Add the Silhouette score of the clusters to the score_list\n",
    "    score_list.append(score)\n",
    "    \n",
    "# Plot the Silhouette score and number of cluster    \n",
    "plt.bar(range(2, 6), score_list)\n",
    "# Set title of the plot \n",
    "plt.title('Silhouette Score Plot')\n",
    "# Set x-axis label\n",
    "plt.xlabel('Number of Clusters K')\n",
    "# Set y-axis label\n",
    "plt.ylabel('Silhouette Scores')\n",
    "# Display plot\n",
    "plt.show()"
   ]
  },
  {
   "cell_type": "code",
   "execution_count": 48,
   "id": "8782b010",
   "metadata": {},
   "outputs": [],
   "source": [
    "# Define number of clusters\n",
    "num_clusters = 2\n",
    "\n",
    "# Create and fit the KMeans model\n",
    "km = KMeans(n_clusters=num_clusters)\n",
    "km.fit(data)\n",
    " \n",
    "# Predict the target variable\n",
    "pred=km.predict(data)\n"
   ]
  },
  {
   "cell_type": "code",
   "execution_count": 49,
   "id": "294a2f7f",
   "metadata": {},
   "outputs": [
    {
     "data": {
      "text/plain": [
       "array([1, 0, 0, 1, 1, 1, 1, 0])"
      ]
     },
     "execution_count": 49,
     "metadata": {},
     "output_type": "execute_result"
    }
   ],
   "source": [
    "pred"
   ]
  },
  {
   "cell_type": "code",
   "execution_count": 50,
   "id": "faa2cc42",
   "metadata": {},
   "outputs": [],
   "source": [
    "## the variables X0, X3, X4, X5, X6 belongs to 1 cluster while the variables X1, X2 and X7 to another"
   ]
  },
  {
   "cell_type": "markdown",
   "id": "810cc189",
   "metadata": {},
   "source": [
    "## hierarchical clustering"
   ]
  },
  {
   "cell_type": "markdown",
   "id": "bdd97e49",
   "metadata": {},
   "source": [
    "### topdown"
   ]
  },
  {
   "cell_type": "code",
   "execution_count": 51,
   "id": "32937333",
   "metadata": {},
   "outputs": [
    {
     "data": {
      "image/png": "[encoded data removed]",
      "text/plain": [
       "<Figure size 432x288 with 1 Axes>"
      ]
     },
     "metadata": {
      "needs_background": "light"
     },
     "output_type": "display_data"
    }
   ],
   "source": [
    "# import pandas \n",
    "import pandas as pd\n",
    "\n",
    "# import matplotlib for data visualization\n",
    "import matplotlib.pyplot as plt\n",
    "\n",
    "# Import dendrogram\n",
    "from scipy.cluster.hierarchy import dendrogram\n",
    "from scipy.cluster.hierarchy import linkage\n",
    " \n",
    "# Create a DataFrame\n",
    "data=pd.DataFrame({\"X\":[12,15,18,10,8,9,12,20],\n",
    "             \"Y\":[6,16,17,8,7,6,9,18]})\n",
    "\n",
    "# create dendrogram using ward linkage\n",
    "dendrogram_plot = dendrogram(linkage(data, method = 'ward'))\n",
    "\n",
    "## we use the ward linkage\n",
    "## The idea has much in common with analysis of variance (ANOVA). \n",
    "## The linkage function specifying the distance between two clusters is computed as the increase in the \"error sum of squares\"\n",
    "## after merging two clusters into a single cluster.\n",
    "\n",
    "# Set title of the plot\n",
    "plt.title('Hierarchical Clustering: Dendrogram')\n",
    "\n",
    "# Set x-axis label\n",
    "plt.xlabel('Data Items')\n",
    "\n",
    "# Set y-axis label\n",
    "plt.ylabel('Distance')\n",
    "\n",
    "# Display the plot\n",
    "plt.show()"
   ]
  },
  {
   "cell_type": "code",
   "execution_count": 52,
   "id": "48425e6d",
   "metadata": {},
   "outputs": [],
   "source": [
    "## in order to select the number of clusters, we need to draw a horizontal line without intersecting the clusters\n",
    "## and count the number of vertical lines to find the number of clusters.\n",
    "## here the number of cluster is 2"
   ]
  },
  {
   "cell_type": "code",
   "execution_count": 53,
   "id": "3aac413e",
   "metadata": {},
   "outputs": [],
   "source": [
    "## Same results: the variables X0, X3, X4, X5, X6 belongs to 1 cluster while the variables X1, X2 and X7 to another"
   ]
  },
  {
   "cell_type": "markdown",
   "id": "965ea962",
   "metadata": {},
   "source": [
    "# Agglomerative clustering model"
   ]
  },
  {
   "cell_type": "code",
   "execution_count": 54,
   "id": "f6587bb6",
   "metadata": {},
   "outputs": [
    {
     "data": {
      "image/png": "[encoded data removed]",
      "text/plain": [
       "<Figure size 432x288 with 1 Axes>"
      ]
     },
     "metadata": {
      "needs_background": "light"
     },
     "output_type": "display_data"
    }
   ],
   "source": [
    "# import pandas \n",
    "import pandas as pd\n",
    "\n",
    "# import matplotlib for data visualization\n",
    "import matplotlib.pyplot as plt\n",
    "\n",
    "# Import Agglomerative Clustering\n",
    "from sklearn.cluster import AgglomerativeClustering\n",
    " \n",
    "# Specify number of clusters\n",
    "num_clusters = 2\n",
    " \n",
    "# Create agglomerative clustering model\n",
    "ac = AgglomerativeClustering(n_clusters = num_clusters, linkage='ward')\n",
    " \n",
    "# Fit the Agglomerative Clustering model\n",
    "ac.fit(data)\n",
    "## this model will fit on the dataset without labels\n",
    "## After training, the model is ready to make predictions using the predict() method\n",
    "\n",
    " \n",
    "# Predict the target variable\n",
    "pred=ac.labels_\n",
    "\n",
    "## After predicting the results, we plotted the cluster results using a scatter plot\n",
    "\n",
    "# Plot the Clusters\n",
    "plt.scatter(data.X,data.Y,c=pred, marker=\"o\")\n",
    "\n",
    "# Set title of the plot \n",
    "plt.title('Agglomerative Clustering')\n",
    "# Set x-axis label\n",
    "plt.xlabel('X-Axis Values')\n",
    "# Set y-axis label\n",
    "plt.ylabel('Y-Axis Values')\n",
    "# Display the plot\n",
    "plt.show()\n"
   ]
  },
  {
   "cell_type": "code",
   "execution_count": 55,
   "id": "8f535e2b",
   "metadata": {},
   "outputs": [],
   "source": [
    "# Same results: the variables X0, X3, X4, X5, X6 belongs to 1 cluster while the variables X1, X2 and X7 to another"
   ]
  },
  {
   "cell_type": "code",
   "execution_count": null,
   "id": "31bc10b2",
   "metadata": {},
   "outputs": [],
   "source": []
  }
 ],
 "metadata": {
  "kernelspec": {
   "display_name": "Python 3 (ipykernel)",
   "language": "python",
   "name": "python3"
  },
  "language_info": {
   "codemirror_mode": {
    "name": "ipython",
    "version": 3
   },
   "file_extension": ".py",
   "mimetype": "text/x-python",
   "name": "python",
   "nbconvert_exporter": "python",
   "pygments_lexer": "ipython3",
   "version": "3.9.12"
  }
 },
 "nbformat": 4,
 "nbformat_minor": 5
}
